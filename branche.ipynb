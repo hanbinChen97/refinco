{
 "cells": [
  {
   "cell_type": "code",
   "execution_count": 2,
   "id": "aa3ae0ab",
   "metadata": {},
   "outputs": [
    {
     "name": "stdout",
     "output_type": "stream",
     "text": [
      "Dependencies ready at 2025-08-11 14:44:46.400361 UTC Parsers available: ['lxml']\n"
     ]
    }
   ],
   "source": [
    "# Dependency setup (run this first)\n",
    "import sys, subprocess, importlib, datetime\n",
    "\n",
    "def install(pkg):\n",
    "    print(f\"Installing {pkg} ...\")\n",
    "    subprocess.check_call([sys.executable, \"-m\", \"pip\", \"install\", pkg])\n",
    "\n",
    "REQUIRED = [\"requests\", \"beautifulsoup4\", \"pandas\"]  # base libs\n",
    "for pkg in REQUIRED:\n",
    "    module_name = pkg if pkg != \"beautifulsoup4\" else \"bs4\"\n",
    "    try:\n",
    "        importlib.import_module(module_name)\n",
    "    except ImportError:\n",
    "        install(pkg)\n",
    "\n",
    "# Attempt lxml (preferred) with fallback to html5lib if build/wheel missing\n",
    "PARSERS = []\n",
    "try:\n",
    "    importlib.import_module(\"lxml\")\n",
    "    PARSERS.append(\"lxml\")\n",
    "except ImportError:\n",
    "    try:\n",
    "        install(\"lxml\")\n",
    "        importlib.import_module(\"lxml\")\n",
    "        PARSERS.append(\"lxml\")\n",
    "    except Exception as e:\n",
    "        print(\"Could not install lxml:\", e)\n",
    "        # fallback html5lib\n",
    "        try:\n",
    "            importlib.import_module(\"html5lib\")\n",
    "        except ImportError:\n",
    "            install(\"html5lib\")\n",
    "        PARSERS.append(\"html5lib\")\n",
    "\n",
    "import requests\n",
    "from bs4 import BeautifulSoup\n",
    "import pandas as pd\n",
    "from pathlib import Path\n",
    "print(\"Dependencies ready at\", datetime.datetime.utcnow(), \"UTC\", \"Parsers available:\", PARSERS)"
   ]
  },
  {
   "cell_type": "markdown",
   "id": "9a1209d8",
   "metadata": {},
   "source": [
    "# web analyse"
   ]
  },
  {
   "cell_type": "code",
   "execution_count": 14,
   "id": "6b20cca4",
   "metadata": {},
   "outputs": [
    {
     "name": "stdout",
     "output_type": "stream",
     "text": [
      "Section/Title list:\n",
      "- Toyota\n",
      "- Market Cap\n",
      "- Toyota Categories\n",
      "- Company Description\n",
      "- Toyota market capitalization over time\n",
      "- Top Competitors by Market Capitalization\n",
      "- Industry: Auto Manufacturers\n",
      "- Sector:\n",
      "- Detailed Description\n",
      "- Financials\n",
      "- Stocks & Indices\n",
      "- Product & Services\n",
      "- Key People\n",
      "- Details\n",
      "- Tools\n",
      "- Data\n",
      "- Disfold DeepFinance\n",
      "- Disfold\n",
      "- Stay ahead with the Disfold Newsletter!\n"
     ]
    }
   ],
   "source": [
    "import requests\n",
    "from bs4 import BeautifulSoup\n",
    "\n",
    "detail_url = \"https://disfold.com/company/toyota-motor-corporation/\"\n",
    "headers = {\n",
    "    \"User-Agent\": \"Mozilla/5.0 (Macintosh; Intel Mac OS X 10_15_7) AppleWebKit/537.36 (KHTML, like Gecko) Chrome/124.0 Safari/537.36\"\n",
    "}\n",
    "\n",
    "resp = requests.get(detail_url, headers=headers, timeout=30)\n",
    "soup = BeautifulSoup(resp.text, \"lxml\") if 'lxml' in PARSERS else BeautifulSoup(resp.text, \"html.parser\")\n",
    "\n",
    "# Collect all section titles: h1, h2, h3, h4, h5, h6\n",
    "section_titles = []\n",
    "for tag in soup.find_all(['h1', 'h2', 'h3', 'h4', 'h5', 'h6']):\n",
    "    txt = tag.get_text(strip=True)\n",
    "    if txt:\n",
    "        section_titles.append(txt)\n",
    "\n",
    "print(\"Section/Title list:\")\n",
    "for t in section_titles:\n",
    "    print(\"-\", t)\n",
    "\n"
   ]
  },
  {
   "cell_type": "code",
   "execution_count": 13,
   "id": "e6116da1",
   "metadata": {},
   "outputs": [
    {
     "name": "stdout",
     "output_type": "stream",
     "text": [
      "['Japan', 'Consumer Discretionary', 'Auto Manufacturers', 'Japan Consumer Discretionary', 'Japan Auto Manufacturers']\n"
     ]
    },
    {
     "data": {
      "text/plain": [
       "['Japan',\n",
       " 'Consumer Discretionary',\n",
       " 'Auto Manufacturers',\n",
       " 'Japan Consumer Discretionary',\n",
       " 'Japan Auto Manufacturers']"
      ]
     },
     "execution_count": 13,
     "metadata": {},
     "output_type": "execute_result"
    }
   ],
   "source": [
    "# 找出 Toyota Categories 对应的 content 的 block 的 class name 并抽取五个分类文本为 list\n",
    "from bs4 import BeautifulSoup\n",
    "\n",
    "# We assume 'soup' already exists from previous cell. If not, raise a helpful error.\n",
    "try:\n",
    "    _ = soup\n",
    "except NameError:\n",
    "    raise RuntimeError(\"'soup' is not defined. Run the earlier cell that fetches the Toyota detail page first.\")\n",
    "\n",
    "card_div = None\n",
    "for div in soup.select('div.card-content'):\n",
    "    h3 = div.find('h3')\n",
    "    if h3 and ' categories' in h3.get_text(strip=True).lower():\n",
    "        card_div = div\n",
    "        break\n",
    "\n",
    "if not card_div:\n",
    "    raise ValueError(\"Could not locate the 'Toyota Categories' block on the page. The page structure may have changed.\")\n",
    "\n",
    "# Collect anchor text inside the block\n",
    "raw_categories = [a.get_text(strip=True) for a in card_div.find_all('a') if a.get_text(strip=True)]\n",
    "\n",
    "# Normalize spacing and keep original case version plus an UPPER version if desired\n",
    "categories = [c.replace('\\n', ' ').strip() for c in raw_categories]\n",
    "print(categories)\n",
    "\n",
    "# If you specifically want upper-case (as in the screenshot), uncomment below:\n",
    "# categories_upper = [c.upper() for c in categories]\n",
    "# print(categories_upper)\n",
    "\n",
    "categories  # Final value"
   ]
  }
 ],
 "metadata": {
  "kernelspec": {
   "display_name": "Python 3",
   "language": "python",
   "name": "python3"
  },
  "language_info": {
   "codemirror_mode": {
    "name": "ipython",
    "version": 3
   },
   "file_extension": ".py",
   "mimetype": "text/x-python",
   "name": "python",
   "nbconvert_exporter": "python",
   "pygments_lexer": "ipython3",
   "version": "3.10.18"
  }
 },
 "nbformat": 4,
 "nbformat_minor": 5
}

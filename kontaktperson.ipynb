{
 "cells": [
  {
   "cell_type": "code",
   "execution_count": 1,
   "id": "02846e0c",
   "metadata": {},
   "outputs": [
    {
     "name": "stdout",
     "output_type": "stream",
     "text": [
      "Dependencies ready at 2025-08-11 14:46:04.834203 UTC Parsers available: ['lxml']\n"
     ]
    }
   ],
   "source": [
    "# Dependency setup (run this first)\n",
    "import sys, subprocess, importlib, datetime\n",
    "\n",
    "def install(pkg):\n",
    "    print(f\"Installing {pkg} ...\")\n",
    "    subprocess.check_call([sys.executable, \"-m\", \"pip\", \"install\", pkg])\n",
    "\n",
    "REQUIRED = [\"requests\", \"beautifulsoup4\", \"pandas\"]  # base libs\n",
    "for pkg in REQUIRED:\n",
    "    module_name = pkg if pkg != \"beautifulsoup4\" else \"bs4\"\n",
    "    try:\n",
    "        importlib.import_module(module_name)\n",
    "    except ImportError:\n",
    "        install(pkg)\n",
    "\n",
    "# Attempt lxml (preferred) with fallback to html5lib if build/wheel missing\n",
    "PARSERS = []\n",
    "try:\n",
    "    importlib.import_module(\"lxml\")\n",
    "    PARSERS.append(\"lxml\")\n",
    "except ImportError:\n",
    "    try:\n",
    "        install(\"lxml\")\n",
    "        importlib.import_module(\"lxml\")\n",
    "        PARSERS.append(\"lxml\")\n",
    "    except Exception as e:\n",
    "        print(\"Could not install lxml:\", e)\n",
    "        # fallback html5lib\n",
    "        try:\n",
    "            importlib.import_module(\"html5lib\")\n",
    "        except ImportError:\n",
    "            install(\"html5lib\")\n",
    "        PARSERS.append(\"html5lib\")\n",
    "\n",
    "import requests\n",
    "from bs4 import BeautifulSoup\n",
    "import pandas as pd\n",
    "from pathlib import Path\n",
    "print(\"Dependencies ready at\", datetime.datetime.utcnow(), \"UTC\", \"Parsers available:\", PARSERS)"
   ]
  },
  {
   "cell_type": "code",
   "execution_count": 5,
   "id": "46505101",
   "metadata": {},
   "outputs": [],
   "source": [
    "context = \"\"\"\n",
    "Yoshihiro Nakata, President and CEO of Toyota Motor Europe\n",
    "Members of the Board and Corporate Auditors | Toyota Tsusho\n",
    "Executive Biographies\n",
    "Toyota Motor Europe - Wikipedia\n",
    "Toyota Motor Europe announces executive changes\n",
    "New Chairman Hiroshi Kuriyama now based at European HQ in ...\n",
    "Toyota in the World | Toyota Europe\n",
    "Executive Officers｜Corporate Outline｜Corporate Information ...\n",
    "Executive Bios\n",
    "Automotive News Europe - Automotive News\n",
    "\"\"\"\n",
    "\n",
    "test_query = \"Toyota European headquarters CEO\"\n",
    "\n",
    "\n",
    "# 使用 llm 帮我提取信息，返回一个 string。\n",
    "# 功能是从我的 context 里提取出 query 的答案。\n",
    "# 帮我设计 system prompt 和 user prompt的构建 \n"
   ]
  },
  {
   "cell_type": "markdown",
   "id": "b1e44288",
   "metadata": {},
   "source": [
    "### 提取答案的 Prompt 设计\n",
    "\n",
    "目标：从给定 `context` 行内抽取 `query` 问题需要的最精确答案（通常是姓名或最短实体短语），不得臆造。\n",
    "\n",
    "System Prompt 约束核心：\n",
    "- 只能使用 CONTEXT 中出现的原文（可截取行内连续子串，不得改写）。\n",
    "- 优先输出人物姓名（若问题寻求如 *CEO* 这类角色且姓名+头衔同列出现）。\n",
    "- 如果无法在 context 中找到明确答案，输出 `NOT_FOUND`。\n",
    "- 输出只允许一个字符串，无解释、无引号、无额外标点。\n",
    "\n",
    "User Prompt 模板：\n",
    "```\n",
    "CONTEXT:\n",
    "{context}\n",
    "\n",
    "QUESTION:\n",
    "{query}\n",
    "\n",
    "Answer:\n",
    "```\n",
    "\n",
    "实现函数：\n",
    "1. `build_prompts(context, query)` 返回 (system, user)\n",
    "2. `extract_answer(context, query, **gen_kwargs)` 调用 LLM 并返回答案。\n",
    "\n",
    "测试：对 `test_query` 调用后应返回 `Yoshihiro Nakata`（或 `NOT_FOUND` 若上下文缺失）。"
   ]
  },
  {
   "cell_type": "code",
   "execution_count": 6,
   "id": "2080a10f",
   "metadata": {},
   "outputs": [
    {
     "name": "stdout",
     "output_type": "stream",
     "text": [
      "Query: Toyota European headquarters CEO\n",
      "Answer: Yoshihiro Nakata\n"
     ]
    }
   ],
   "source": [
    "# Prompt 构建与答案抽取\n",
    "from typing import Tuple\n",
    "from llm import chat_once\n",
    "\n",
    "SYSTEM_PROMPT_BASE = (\n",
    "    \"You are an extraction engine. Given a CONTEXT (list of short lines) and a QUESTION, \"\n",
    "    \"return the minimal exact substring from the context that answers the question. Rules: \"\n",
    "    \"1) Only output text that appears verbatim (contiguous characters) in the context. \"\n",
    "    \"2) Prefer a person's full name if the question is about a role/title and the name+title appears; return only the name unless title is inseparable. \"\n",
    "    \"3) If multiple candidates, choose the most specific (full name over partial). \"\n",
    "    \"4) If no answer is explicitly present, output NOT_FOUND. \"\n",
    "    \"5) Output must be a single line with no explanation, no quotes, no extra punctuation.\"\n",
    ")\n",
    "\n",
    "def build_prompts(context: str, query: str) -> Tuple[str, str]:\n",
    "    user = f\"CONTEXT:\\n{context.strip()}\\n\\nQUESTION:\\n{query.strip()}\\n\\nAnswer:\"\n",
    "    return SYSTEM_PROMPT_BASE, user\n",
    "\n",
    "\n",
    "def extract_answer(context: str, query: str, **gen_kwargs) -> str:\n",
    "    system, user = build_prompts(context, query)\n",
    "    ans = chat_once(system, user, max_tokens=20, temperature=0, **gen_kwargs)\n",
    "    if not ans:\n",
    "        return \"NOT_FOUND\"\n",
    "    ans = ans.strip().splitlines()[0].strip()\n",
    "    # Sanity: ensure answer (if not NOT_FOUND) appears in context\n",
    "    if ans != \"NOT_FOUND\" and ans not in context:\n",
    "        return \"NOT_FOUND\"\n",
    "    return ans\n",
    "\n",
    "# # Demo run\n",
    "# if 'test_query' in globals():\n",
    "demo_answer = extract_answer(context, test_query)\n",
    "\n",
    "print('Query:', test_query)\n",
    "print('Answer:', demo_answer)\n",
    "\n"
   ]
  },
  {
   "cell_type": "code",
   "execution_count": null,
   "id": "aa94ecb4",
   "metadata": {},
   "outputs": [],
   "source": [
    "test_query = \"Toyota European headquarters CEO\"\n"
   ]
  },
  {
   "cell_type": "code",
   "execution_count": 7,
   "id": "caea3f0d",
   "metadata": {},
   "outputs": [
    {
     "name": "stdout",
     "output_type": "stream",
     "text": [
      "--- Raw Search Titles Context ---\n",
      "Yoshihiro Nakata, President and CEO of Toyota Motor Europe\n",
      "Members of the Board and Corporate Auditors | Toyota Tsusho\n",
      "Executive Biographies\n",
      "Toyota Motor Europe - Wikipedia\n",
      "Toyota Motor Europe announces executive changes\n",
      "New Chairman Hiroshi Kuriyama now based at European HQ in ...\n",
      "Toyota in the World | Toyota Europe\n",
      "Executive Officers｜Corporate Outline｜Corporate Information ...\n",
      "Executive Bios\n",
      "Automotive News Europe - Automotive News\n",
      "\n",
      "Query: Toyota European headquarters CEO\n",
      "Answer (from search): Yoshihiro Nakata\n"
     ]
    }
   ],
   "source": [
    "# Google 搜索 -> 抽取流水线\n",
    "import importlib.util, pathlib, textwrap\n",
    "from pathlib import Path\n",
    "\n",
    "search_file = Path('google-search-api.py')\n",
    "if not search_file.exists():\n",
    "    raise FileNotFoundError('google-search-api.py 不存在，无法执行搜索。')\n",
    "\n",
    "spec = importlib.util.spec_from_file_location('google_search_api_mod', str(search_file))\n",
    "mod = importlib.util.module_from_spec(spec)\n",
    "spec.loader.exec_module(mod)  # type: ignore\n",
    "\n",
    "# 获取搜索结果 titles 作为 context\n",
    "search_context = mod.google_search_titles(test_query, n=10)\n",
    "print('--- Raw Search Titles Context ---')\n",
    "print(search_context or '[EMPTY / FAILED]')\n",
    "\n",
    "if not search_context.strip():\n",
    "    answer_from_search = 'NOT_FOUND'\n",
    "else:\n",
    "    answer_from_search = extract_answer(search_context, test_query)\n",
    "\n",
    "print('\\nQuery:', test_query)\n",
    "print('Answer (from search):', answer_from_search)"
   ]
  },
  {
   "cell_type": "markdown",
   "id": "619c7b85",
   "metadata": {},
   "source": [
    "### 基于 Google 搜索动态抽取\n",
    "\n",
    "流程：\n",
    "1. 用 `test_query` 调用 Google Custom Search (只取 title 聚合成 context)。\n",
    "2. 复用前面 `extract_answer` 进行答案抽取。\n",
    "3. 若 API key / cx 缺失或搜索为空，则输出 `NOT_FOUND`。\n",
    "\n",
    "下面代码会：\n",
    "- 动态加载已有 `google-search-api.py`（文件名含 `-` 用 importlib 方式）。\n",
    "- 获取 context、打印 context、打印最终答案。"
   ]
  }
 ],
 "metadata": {
  "kernelspec": {
   "display_name": "Python 3",
   "language": "python",
   "name": "python3"
  },
  "language_info": {
   "codemirror_mode": {
    "name": "ipython",
    "version": 3
   },
   "file_extension": ".py",
   "mimetype": "text/x-python",
   "name": "python",
   "nbconvert_exporter": "python",
   "pygments_lexer": "ipython3",
   "version": "3.10.18"
  }
 },
 "nbformat": 4,
 "nbformat_minor": 5
}

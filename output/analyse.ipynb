{
 "cells": [
  {
   "cell_type": "code",
   "execution_count": 3,
   "id": "bba5dea6",
   "metadata": {},
   "outputs": [],
   "source": [
    "# output/wealth_managers_enhanced.xlsx, it has columns:\n",
    "# company_name\tcountry\tcompany_contact_page\tcompany_email\tcompany_phone\tceo\tceo_email\tceo_phone\tcofounder\tcofounder_email\tcofounder_phone\n",
    "# read this file, calculate null percentage of each column\n"
   ]
  },
  {
   "cell_type": "code",
   "execution_count": 4,
   "id": "cb610387",
   "metadata": {},
   "outputs": [
    {
     "name": "stdout",
     "output_type": "stream",
     "text": [
      "company_name            100.000000\n",
      "country                 100.000000\n",
      "company_contact_page     69.325153\n",
      "company_email            48.466258\n",
      "company_phone            77.300613\n",
      "ceo                      67.484663\n",
      "ceo_email                 6.134969\n",
      "ceo_phone                19.631902\n",
      "cofounder                46.012270\n",
      "cofounder_email           3.067485\n",
      "cofounder_phone           6.134969\n",
      "dtype: float64\n"
     ]
    }
   ],
   "source": [
    "import pandas as pd\n",
    "\n",
    "df = pd.read_excel('wealth_managers_combined_20250818_003634.xlsx')\n",
    "not_null_percentage = (df.notnull().mean() * 100)\n",
    "print(not_null_percentage)"
   ]
  },
  {
   "cell_type": "code",
   "execution_count": 6,
   "id": "f0fe301d",
   "metadata": {},
   "outputs": [
    {
     "name": "stdout",
     "output_type": "stream",
     "text": [
      "company_name            100.000000\n",
      "country                 100.000000\n",
      "ceo                      67.484663\n",
      "company_email            61.349693\n",
      "company_contact_page     82.822086\n",
      "company_phone            85.276074\n",
      "ceo_email                 6.134969\n",
      "ceo_phone                19.631902\n",
      "cofounder                46.012270\n",
      "cofounder_email           3.067485\n",
      "cofounder_phone           6.134969\n",
      "dtype: float64\n"
     ]
    }
   ],
   "source": [
    "# output/wealth_managers_enhanced_with_urls.xlsx\n",
    "df = pd.read_excel('wealth_managers_enhanced_contacts_20250826_022622.xlsx')\n",
    "not_null_percentage = (df.notnull().mean() * 100)\n",
    "print(not_null_percentage)\n"
   ]
  },
  {
   "cell_type": "code",
   "execution_count": null,
   "id": "2da9b069",
   "metadata": {},
   "outputs": [],
   "source": [
    "# company_name            100.000000\n",
    "# country                 100.000000\n",
    "# company_contact_page     69.325153\n",
    "# company_email            55.828221\n",
    "# company_phone            84.662577\n",
    "# ceo                      67.484663\n",
    "# ceo_email                 6.134969\n",
    "# ceo_phone                19.631902\n",
    "# cofounder                46.012270\n",
    "# cofounder_email           3.067485\n",
    "# cofounder_phone           6.134969\n",
    "# url                     100.000000\n",
    "df = pd.read_excel('wealth_managers_enhanced_with_urls.xlsx')\n",
    "# 没有电话号码，说明 swf，也咩有提供\n",
    "\n",
    "# 寻找有 email，没有电话的"
   ]
  }
 ],
 "metadata": {
  "kernelspec": {
   "display_name": "refinco (3.10.18)",
   "language": "python",
   "name": "python3"
  },
  "language_info": {
   "codemirror_mode": {
    "name": "ipython",
    "version": 3
   },
   "file_extension": ".py",
   "mimetype": "text/x-python",
   "name": "python",
   "nbconvert_exporter": "python",
   "pygments_lexer": "ipython3",
   "version": "3.10.18"
  }
 },
 "nbformat": 4,
 "nbformat_minor": 5
}
